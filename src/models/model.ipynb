{
 "cells": [
  {
   "cell_type": "code",
   "execution_count": 1,
   "metadata": {},
   "outputs": [],
   "source": [
    "import numpy as np\n",
    "import matplotlib.pyplot as plt\n",
    "%matplotlib inline\n",
    "# For conversion\n",
    "from skimage.color import lab2rgb, rgb2lab, rgb2gray\n",
    "from skimage import io\n",
    "# For everything\n",
    "import torch\n",
    "import torch.nn as nn\n",
    "import torch.nn.functional as F\n",
    "# For our model\n",
    "import torchvision.models as models\n",
    "from torchvision import datasets, transforms\n",
    "# For utilities\n",
    "import os, shutil, time\n",
    "\n",
    "use_gpu = torch.cuda.is_available()"
   ]
  },
  {
   "cell_type": "code",
   "execution_count": 9,
   "metadata": {},
   "outputs": [
    {
     "name": "stdout",
     "output_type": "stream",
     "text": [
      "/Users/william/Library/CloudStorage/OneDrive-Personal/Documents/School/Spring 2022/DS 440/Capstone Project/GitHub/src/models\n",
      "[[[ 96  96  96]\n",
      "  [ 96  96  96]\n",
      "  [ 91  91  91]\n",
      "  ...\n",
      "  [ 86  86  86]\n",
      "  [ 85  85  85]\n",
      "  [ 85  85  85]]\n",
      "\n",
      " [[ 91  91  91]\n",
      "  [ 94  94  94]\n",
      "  [ 90  90  90]\n",
      "  ...\n",
      "  [ 85  85  85]\n",
      "  [ 85  85  85]\n",
      "  [ 85  85  85]]\n",
      "\n",
      " [[ 92  92  92]\n",
      "  [ 93  93  93]\n",
      "  [ 91  91  91]\n",
      "  ...\n",
      "  [ 84  84  84]\n",
      "  [ 85  85  85]\n",
      "  [ 84  84  84]]\n",
      "\n",
      " ...\n",
      "\n",
      " [[110 110 110]\n",
      "  [109 109 109]\n",
      "  [111 111 111]\n",
      "  ...\n",
      "  [152 152 152]\n",
      "  [151 151 151]\n",
      "  [151 151 151]]\n",
      "\n",
      " [[112 112 112]\n",
      "  [108 108 108]\n",
      "  [111 111 111]\n",
      "  ...\n",
      "  [153 153 153]\n",
      "  [145 145 145]\n",
      "  [152 152 152]]\n",
      "\n",
      " [[110 110 110]\n",
      "  [110 110 110]\n",
      "  [109 109 109]\n",
      "  ...\n",
      "  [155 155 155]\n",
      "  [153 153 153]\n",
      "  [151 151 151]]]\n"
     ]
    }
   ],
   "source": [
    "base_dir = os.getcwd()\n",
    "print(base_dir)\n",
    "train_dir = os.path.join(base_dir, '/volume/dataset/training')\n",
    "test_dir = os.path.join(base_dir, '/volume/dataset/test')\n",
    "\n",
    "#Initial Testing\n",
    "test_image = os.path.join(base_dir, '/volume/initial/grayscale/00000.png')\n",
    "img = cv2.imread(r'/Users/william/Downloads/initial/grayscale/00000.png')\n",
    "print(img)"
   ]
  }
 ],
 "metadata": {
  "interpreter": {
   "hash": "9495d183c8bc8267998399980fe1e9fcd362888d76c7a08e060513ccd7cc4827"
  },
  "kernelspec": {
   "display_name": "Python 3.10.2 ('tf')",
   "language": "python",
   "name": "python3"
  },
  "language_info": {
   "codemirror_mode": {
    "name": "ipython",
    "version": 3
   },
   "file_extension": ".py",
   "mimetype": "text/x-python",
   "name": "python",
   "nbconvert_exporter": "python",
   "pygments_lexer": "ipython3",
   "version": "3.10.2"
  },
  "orig_nbformat": 4
 },
 "nbformat": 4,
 "nbformat_minor": 2
}
